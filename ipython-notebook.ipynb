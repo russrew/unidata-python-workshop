{
 "metadata": {
  "name": "",
  "signature": "sha256:2be2bb5cbff750abef5cf722fc908662eeccb0eec513020955199e46039eb6d3"
 },
 "nbformat": 3,
 "nbformat_minor": 0,
 "worksheets": []
}